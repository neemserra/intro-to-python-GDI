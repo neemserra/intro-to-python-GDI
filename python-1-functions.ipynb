{
 "metadata": {
  "name": "python-1-functions"
 },
 "nbformat": 3,
 "nbformat_minor": 0,
 "worksheets": [
  {
   "cells": [
    {
     "cell_type": "heading",
     "level": 1,
     "metadata": {},
     "source": "Basic Programming Using Python: Creating Functions"
    },
    {
     "cell_type": "markdown",
     "metadata": {},
     "source": "Before we get started, Python uses 'whitespace' as punctuation.  We indent things with a tab or four spaces to show where one statement begins and ends.  Other languages use semicolons or brackets to do a similar thing."
    },
    {
     "cell_type": "heading",
     "level": 2,
     "metadata": {},
     "source": "Declaring a Function"
    },
    {
     "cell_type": "markdown",
     "metadata": {},
     "source": "A function's job is to bundle several steps together\nso that they can be used as if they were a single command&mdash;in other words,\nto create a new verb in our programming language.\nThe simplest possible function is one that produces the same value each time it is called:"
    },
    {
     "cell_type": "code",
     "collapsed": false,
     "input": "def zero():\n    return 0",
     "language": "python",
     "metadata": {},
     "outputs": []
    },
    {
     "cell_type": "markdown",
     "metadata": {},
     "source": "We define a new function in Python using the keyword `def`,\nfollowed by the function's name.\nThe empty parentheses signal that the function doesn't take any inputs&mdash;we'll\nsee functions that do in a moment.\nThe colon signals the start of a new block of code,\ncalled the body of the function,\nwhich is indented.\nThe keyword `return` then specifies the value the function produces\nwhen it is called.\n\nDefining a function tells the computer how to do something.\nTo actually *do* that \"something\",\nwe need to call the function:"
    },
    {
     "cell_type": "code",
     "collapsed": false,
     "input": "result = zero()\nprint 'function produced:', result",
     "language": "python",
     "metadata": {},
     "outputs": []
    },
    {
     "cell_type": "markdown",
     "metadata": {},
     "source": "When Python sees the call `zero()` it sets aside whatever it was doing,\ndoes whatever the function `zero` tells it to do,\nand then continues with its original calculation using the function's result.\nIn this case the overall effect is to assign 0 to `result`,\nwhich is then printed.\nWe can achieve the same effect without the assignment:"
    },
    {
     "cell_type": "code",
     "collapsed": false,
     "input": "print 'function produced:', zero()",
     "language": "python",
     "metadata": {},
     "outputs": []
    },
    {
     "cell_type": "markdown",
     "metadata": {},
     "source": "Functions that always produce the same value aren't particularly useful,\nso most functions take input values\ncalled parameters or arguments.\nA parameter is a variable that is assigned a value each time the function is called.\nFor example,\nthis function that converts a temperature from Fahrenheit to Kelvin\nhas one parameter called `temp`:"
    },
    {
     "cell_type": "code",
     "collapsed": false,
     "input": "def fahr_to_kelvin(temp):\n    return ((temp - 32.0) * 5.0/9.0) + 273.15\n\nprint 'water freezes at', fahr_to_kelvin(32)\nprint 'water boils at', fahr_to_kelvin(212)",
     "language": "python",
     "metadata": {},
     "outputs": []
    },
    {
     "cell_type": "markdown",
     "metadata": {},
     "source": "Functions can have any number of parameters.\nWhen we call a function,\nwe must provide as many values as there are parameters;\nvalues are assigned to parameters from left to right.\nFor example,\nhere's a function that calculates the average of three values:"
    },
    {
     "cell_type": "code",
     "collapsed": false,
     "input": "def average3(one, middle, right):\n    return (one + middle + right) / 3\n\nx = 3\ny = 5\nz = 4\nprint 'average is:', average3(x, y, z)",
     "language": "python",
     "metadata": {},
     "outputs": []
    },
    {
     "cell_type": "heading",
     "level": 2,
     "metadata": {},
     "source": "Key Points"
    },
    {
     "cell_type": "markdown",
     "metadata": {},
     "source": "- Define a function using `def name(...)`\n- The body of a function must be indented.\n- Use `name(...)` to call a function.\n- Use `return` to return a value from a function.\n- The values passed into a function are assigned to its parameters in left-to-right order.\n- Grouping operations in functions makes code easier to understand and re-use."
    },
    {
     "cell_type": "heading",
     "level": 1,
     "metadata": {},
     "source": "Try it yourself!"
    },
    {
     "cell_type": "markdown",
     "metadata": {},
     "source": "- Make a function that can calculate the area of a rectangle\n- Make a function that can calculate the total amount of a meal.  Pass into the function three variables: meal price, tax, and tip.  Return the total amount of the meal."
    },
    {
     "cell_type": "code",
     "collapsed": false,
     "input": "def meal_cost(mealPrice, taxPercentage, tipPercentage):\n    totalTax = mealPrice * taxPercentage\n    totalTip = (mealPrice + totalTax) * tipPercentage\n    \n    return (mealPrice + totalTax + totalTip)\n\n\nprint meal_cost(10, 0.12, 0.20) ",
     "language": "python",
     "metadata": {},
     "outputs": []
    },
    {
     "cell_type": "markdown",
     "metadata": {},
     "source": "Material from: http://software-carpentry.org"
    }
   ],
   "metadata": {}
  }
 ]
}