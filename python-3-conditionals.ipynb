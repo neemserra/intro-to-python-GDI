{
 "metadata": {
  "name": "python-3-conditionals"
 },
 "nbformat": 3,
 "nbformat_minor": 0,
 "worksheets": [
  {
   "cells": [
    {
     "cell_type": "heading",
     "level": 1,
     "metadata": {},
     "source": "Basic Programming Using Python: Making Decisions"
    },
    {
     "cell_type": "heading",
     "level": 2,
     "metadata": {},
     "source": "Changing Colors"
    },
    {
     "cell_type": "markdown",
     "metadata": {},
     "source": "Let's create another grid and color a few cells:"
    },
    {
     "cell_type": "code",
     "collapsed": false,
     "input": "from ipythonblocks import ImageGrid, colors # import both at the same time\nrow = ImageGrid(6, 1)\nrow[1, 0] = colors['Orchid']\nrow[5, 0] = colors['Orchid']\nrow.show()",
     "language": "python",
     "metadata": {},
     "outputs": []
    },
    {
     "cell_type": "markdown",
     "metadata": {},
     "source": "Suppose we want to invert these colors,\ni.e.,\nturn every black cell orchid,\nand every orchid cell black.\nWe could do this directly,\nbut if we want to do the operation frequently,\non many different images,\nwe ought to write a function,\nand that function ought to work equally well on this grid:"
    },
    {
     "cell_type": "code",
     "collapsed": false,
     "input": "another_row = ImageGrid(8, 1)\nanother_row[0, 0] = colors['Orchid']\nanother_row[1, 0] = colors['Orchid']\nanother_row[3, 0] = colors['Orchid']\nanother_row.show()",
     "language": "python",
     "metadata": {},
     "outputs": []
    },
    {
     "cell_type": "markdown",
     "metadata": {},
     "source": "What we really want is a way for the computer to make decisions based on the data it is processing.\nThe tool that does that is the conditional statement,\noften called an \"if statement\" because of how it's written:"
    },
    {
     "cell_type": "code",
     "collapsed": false,
     "input": "if 5 > 0:\n    print '5 is greater than 0'\nif 5 < 0:\n    print '5 should not be less than 0'",
     "language": "python",
     "metadata": {},
     "outputs": []
    },
    {
     "cell_type": "markdown",
     "metadata": {},
     "source": "A conditional statement starts with the word `if`,\nfollowed by an expression that can be either true or false.\nIf the expression is true,\nPython executes the block of code underneath the `if`;\nif it's false,\nPython skips that block:"
    },
    {
     "cell_type": "markdown",
     "metadata": {},
     "source": "We often want to do one thing when a condition is true,\nand another thing when the condition is false,\nso Python allows us to attach an `else` to an `if` like this:"
    },
    {
     "cell_type": "code",
     "collapsed": false,
     "input": "abc = 'abc'\nif 'a' == 'a':\n    print 'whoops: \"abc\" should be less than \"xyz\"'\nelse:\n    print 'correct: \"abc\" is less than \"xyz\"'",
     "language": "python",
     "metadata": {},
     "outputs": []
    },
    {
     "cell_type": "markdown",
     "metadata": {},
     "source": "We can use another keyword,\n`elif`,\nto insert additional tests after the `if`.\nPython checks each one in order,\nand executes the code block belonging to the first one that's true.\nIf none of them are,\nit executes the `else`,\nor does nothing at all if an `else` hasn't been provided:"
    },
    {
     "cell_type": "code",
     "collapsed": false,
     "input": "for number in range(-2, 3): # produces -2, -1, 0, 1, 2\n    if number < 0:\n        print number, 'is negative'\n    elif number == 0:\n        print number, 'is zero'\n    else:\n        print number, 'must be positive'",
     "language": "python",
     "metadata": {},
     "outputs": []
    },
    {
     "cell_type": "markdown",
     "metadata": {},
     "source": "We now have everything we need to invert the colors in a color grid:"
    },
    {
     "cell_type": "code",
     "collapsed": false,
     "input": "def invert(grid):\n    for x in range(grid.width):\n        if grid[x, 0] == colors['Orchid']:\n            grid[x, 0] = colors['Black']\n        else: # must be black\n            grid[x, 0] = colors['Orchid']",
     "language": "python",
     "metadata": {},
     "outputs": []
    },
    {
     "cell_type": "markdown",
     "metadata": {},
     "source": "As discussed in the previous lessons,\n`grid.width` is the width of the grid,\nso `range(grid.width)` is the sequence of numbers 0, 1, 2, &hellip;, `grid.width`-1,\ni.e.,\nthe legal X indices for the grid.\nInside that loop,\nwe check `grid[x, 0]`'s color.\nIf it's orchid,\nwe turn it black;\nif it's not orchid,\nwe assume that it's black\nand make it orchid.\nTo test it,\nlet's look at our original row:"
    },
    {
     "cell_type": "code",
     "collapsed": false,
     "input": "row.show()",
     "language": "python",
     "metadata": {},
     "outputs": []
    },
    {
     "cell_type": "markdown",
     "metadata": {},
     "source": "and then look at it again after inverting it:"
    },
    {
     "cell_type": "code",
     "collapsed": false,
     "input": "invert(row)\nrow.show()",
     "language": "python",
     "metadata": {},
     "outputs": []
    },
    {
     "cell_type": "markdown",
     "metadata": {},
     "source": "This error message isn't particularly helpful,\nsince it depends on concepts we haven't encountered yet.\nAfter a bit of poking around,\nthough,\nit turns out that when we select a cell from a grid,\nwe don't get the cell's RGB color value.\nInstead,\nwe get a `Pixel` that contains both the cell's color and its XY coordinates:"
    },
    {
     "cell_type": "code",
     "collapsed": false,
     "input": "pixel = row[0, 0]\nhelp(pixel)",
     "language": "python",
     "metadata": {},
     "outputs": []
    },
    {
     "cell_type": "markdown",
     "metadata": {},
     "source": "What we need to do is compare `colors['Black']` with `grid[x, 0].rgb`.\nLet's rewrite our function and try it:"
    },
    {
     "cell_type": "code",
     "collapsed": false,
     "input": "def invert(grid):\n    for x in range(grid.width):\n        if grid[x, 0].rgb == colors['Orchid']: # comparing to RGB\n            grid[x, 0] = colors['Black']\n        else:\n            grid[x, 0] = colors['Orchid']\n\ninvert(row)\nrow.show()",
     "language": "python",
     "metadata": {},
     "outputs": []
    },
    {
     "cell_type": "markdown",
     "metadata": {},
     "source": "That seems to have worked&mdash;let's try with the other row:"
    },
    {
     "cell_type": "code",
     "collapsed": false,
     "input": "invert(another_row)\nanother_row.show()",
     "language": "python",
     "metadata": {},
     "outputs": []
    },
    {
     "cell_type": "markdown",
     "metadata": {},
     "source": "That seems to have worked too&mdash;or did it?\nWe can't check by displaying the original state of `another_row`\nbecause we've just changed it.\nWhat we really ought to do is change our function to create a new grid\nrather than modifying the one we pass in:"
    },
    {
     "cell_type": "code",
     "collapsed": false,
     "input": "def invert(grid):\n    result = ImageGrid(grid.width, 1)\n    for x in range(grid.width):\n        if grid[x, 0].rgb == colors['Orchid']:\n            result[x, 0] = colors['Black']\n        else:\n            result[x, 0] = colors['Orchid']\n    return result",
     "language": "python",
     "metadata": {},
     "outputs": []
    },
    {
     "cell_type": "markdown",
     "metadata": {},
     "source": "Let's try it out:"
    },
    {
     "cell_type": "code",
     "collapsed": false,
     "input": "test_case = ImageGrid(4, 1)\ntest_case[0, 0] = colors['Orchid']\ntest_case[3, 0] = colors['Orchid']\ntest_case.show()",
     "language": "python",
     "metadata": {},
     "outputs": []
    },
    {
     "cell_type": "markdown",
     "metadata": {},
     "source": "and:"
    },
    {
     "cell_type": "code",
     "collapsed": false,
     "input": "changed = invert(test_case)\nchanged.show()",
     "language": "python",
     "metadata": {},
     "outputs": []
    },
    {
     "cell_type": "markdown",
     "metadata": {},
     "source": "and:"
    },
    {
     "cell_type": "code",
     "collapsed": false,
     "input": "test_case.show()",
     "language": "python",
     "metadata": {},
     "outputs": []
    },
    {
     "cell_type": "markdown",
     "metadata": {},
     "source": "That's better:\nwe still have our original data to compare our new data to,\nand if we really want to overwrite the original,\nwe can always do this:"
    },
    {
     "cell_type": "code",
     "collapsed": false,
     "input": "test_case = invert(test_case)\ntest_case.show()",
     "language": "python",
     "metadata": {},
     "outputs": []
    },
    {
     "cell_type": "markdown",
     "metadata": {},
     "source": "<hr/>\n### *When to Mutate*\n\n<em>\nChanging a value in place is called mutating it.\nIt makes programs harder to understand,\nsince readers have to follow a sequence of steps in order to figure out\nwhat the value of a variable is,\nbut it is often done for the sake of efficiency.\nCreating a new four-pixel image grid takes almost no time at all,\nbut copying a multi-gigabyte video in order to eliminate red-eye in a couple of frames\nwould be very slow.\n</em>\n<hr/>"
    },
    {
     "cell_type": "heading",
     "level": 2,
     "metadata": {},
     "source": "Boolean Values and Operators"
    },
    {
     "cell_type": "markdown",
     "metadata": {},
     "source": "Most people understand that 5+3 produces the value 8,\nbut it can take a while to realize that 5>3 also produces a value.\nLet's do a few experiments:"
    },
    {
     "cell_type": "code",
     "collapsed": false,
     "input": "print '5 is greater than 3:', 5 > 3\nprint '5 is less than 3:', 5 < 3",
     "language": "python",
     "metadata": {},
     "outputs": []
    },
    {
     "cell_type": "markdown",
     "metadata": {},
     "source": "The result of an expression like 5>3 is the Boolean `True`;\nthe result of 5<3 is the Boolean `False`.\nThose are the only two values of the type `bool`:\nthere are many thousands of different characters,\nand millions of integers and floating-point numbers,\nbut `True` and `False` are all that `bool` gets.\nLike other values,\nBooleans can be assigned to variables:"
    },
    {
     "cell_type": "code",
     "collapsed": true,
     "input": "answer = 5 > 3\nprint 'answer stored in variable:', answer",
     "language": "python",
     "metadata": {},
     "outputs": []
    },
    {
     "cell_type": "markdown",
     "metadata": {},
     "source": "Booleans can also be used directly in conditional statements:"
    },
    {
     "cell_type": "code",
     "collapsed": false,
     "input": "if answer:\n    print 'answer is true'",
     "language": "python",
     "metadata": {},
     "outputs": []
    },
    {
     "cell_type": "markdown",
     "metadata": {},
     "source": "Note that we do *not* write `if answer == True`.\n`answer` itself is either `True` or `False`,\nand that's all `if` needs.\nAs the table below shows,\ncomparing a Boolean to `True` is redundant:"
    },
    {
     "cell_type": "markdown",
     "metadata": {},
     "source": "<table>\n<tr><th>Value</th><th>`== True`</th></tr>\n<tr><td>`True`</td><td>`True`</td></tr>\n<tr><td>`False`</td><td>`False`</td></tr>\n</table>"
    },
    {
     "cell_type": "markdown",
     "metadata": {},
     "source": "Booleans can be manipulated using three operators: `and`, `or`, and `not`.\nThe third is the simplest:\nif `x` is `True`,\n`not x` is `False`\nand vice versa.\n`and` produces `True` only if both of its operands are `True`,\nwhile `or` produces `True` if either or both of its operands are `True`."
    },
    {
     "cell_type": "markdown",
     "metadata": {},
     "source": "Python evaluates `and` and `or` a bit differently from\nthe way it evaluates arithmetic operators like `+` and `*`.\nWhen Python executes `x+y`,\nit gets the values of `x` and `y` before performing the addition,\nbut is allowed to decide for itself whether to get `x` or `y` first.\nWhen it evaluates `x or y`,\non the other hand,\nit always starts by checking whether `x` is `True`.\nIf it is,\nit stops evaluation right there:\nsince `or` is `True` if either operand is `True`,\nPython doesn't need to know the value of `y` in order to complete its calculations.\nIf `x` is `False`,\non the other hand,\nPython must get `y` in order to figure out the expression's final value."
    },
    {
     "cell_type": "markdown",
     "metadata": {},
     "source": "Similarly,\nwhen Python evaluates `x and y`,\nit always starts by getting the value of `x`.\nIf this is `False`,\nthe result is bound to be `False`,\nso Python doesn't even try to get the value of `y`.\nThis is called short-circuit evaluation,\nand is often used to do things like this:"
    },
    {
     "cell_type": "markdown",
     "metadata": {},
     "source": "```python\nif (number != 0) or (1/number < threshold):\n    total += 1/number\n```"
    },
    {
     "cell_type": "markdown",
     "metadata": {},
     "source": "Without that first test,\nthe `if` would blow up if `number` was zero.\nSince Python always executes the check for zero *before* checking the reciprocal of `number`,\nthough,\nthis is safe to execute."
    },
    {
     "cell_type": "markdown",
     "metadata": {},
     "source": "One other thing that's special about Booleans is that\nvalues of almost any other type can be used in their place.\nThe numbers 0 and 0.0 are treated as equivalent to `False`,\nand so is the empty string `''`;\nall other numbers and strings are equivalent to `True`.\nThis means that we can rewrite:"
    },
    {
     "cell_type": "markdown",
     "metadata": {},
     "source": "```python\nif len(some_string) > 0:\n    ...do something...\n```"
    },
    {
     "cell_type": "markdown",
     "metadata": {},
     "source": "as:"
    },
    {
     "cell_type": "markdown",
     "metadata": {},
     "source": "```python\nif len(some_string):\n    ...do something...\n```"
    },
    {
     "cell_type": "markdown",
     "metadata": {},
     "source": "or even just as:"
    },
    {
     "cell_type": "markdown",
     "metadata": {},
     "source": "```python\nif some_string:\n    ...do something...\n```"
    },
    {
     "cell_type": "markdown",
     "metadata": {},
     "source": "The first version checks that the length of the string is greater than zero,\ni.e.,\nthat the string contains some characters.\nThe second version checks that the length of the string is not zero;\nsince the length can't be negative,\nthis is the same as checking that it's positive.\nThe final version just checks that `some_string` is not the empty string:\nit's the shortest,\nthe most efficient to execute,\nand the one that most experienced Python programmers would write,\nbut it also puts the greatest burden on the reader.\nWhich one you use is up to you,\nbut whatever you do,\nplease be consistent:\nmany studies have shown that people can learn to read almost anything quickly\nas long as there are patterns for their eyes and brain to follow"
    },
    {
     "cell_type": "heading",
     "level": 2,
     "metadata": {},
     "source": "Key Points"
    },
    {
     "cell_type": "markdown",
     "metadata": {},
     "source": "- Use `if`/`elif`/`else` to make choices in programs.\n- Booleans are useful to determine paths in conditional statements."
    },
    {
     "cell_type": "heading",
     "level": 1,
     "metadata": {},
     "source": "Choose Your Own Adventure!"
    },
    {
     "cell_type": "code",
     "collapsed": false,
     "input": "def adventure():\n    print \"You've just entered a choose your own adventure!\"\n    print \"You appear in a dark room.  There are tunnels facing north, east, south, and west.  Which one do you take?\"\n    answer = raw_input(\"Type north, east, south, or west and hit 'Enter'.\").lower()\n    if answer == \"north\":\n        print \"Cupcake room!  Best room ever!\"\n    elif answer == \"east\":\n        print \"Dark gloomy tunnel.  You feel bored.\"\n    elif answer == \"south\":\n        print \"You appear in your childhood living room.  You look around confused.\"\n    elif answer == \"west\":\n        print \"A puzzled-looking unicorn stares out at you.\"\n    else:\n        print \"You didn't pick a direction! Try again.\"\n        adventure()\n\nadventure()",
     "language": "python",
     "metadata": {},
     "outputs": []
    },
    {
     "cell_type": "markdown",
     "metadata": {},
     "source": "Try expanding the choose your own adventure to continue spelunking (ex. use booleans, make new functions for new rooms, etc.)"
    },
    {
     "cell_type": "heading",
     "level": 1,
     "metadata": {},
     "source": "neemserra@gmail.com\n\ntwitter: teamneem"
    },
    {
     "cell_type": "markdown",
     "metadata": {},
     "source": "Material from: http://software-carpentry.org"
    }
   ],
   "metadata": {}
  }
 ]
}