{
 "metadata": {
  "name": "python-0-introduction"
 },
 "nbformat": 3,
 "nbformat_minor": 0,
 "worksheets": [
  {
   "cells": [
    {
     "cell_type": "heading",
     "level": 1,
     "metadata": {},
     "source": "Setup"
    },
    {
     "cell_type": "markdown",
     "metadata": {},
     "source": "1. Copy the Notebooks folder and the installer for Enthough Canopy from the flash drive.  Install Enthought Canopy. \n\n2. Open Terminal and install IPython\n\n    Windows in the Command Prompt (cmd.exe):\n        enpkg enstaller\n        enpkg ipython\n        easy_install ipythonblocks\n\n    Mac in the Terminal application:\n        sudo enpkg enstaller\n        sudo enpkg ipython  \n        easy_install ipythonblocks\n    \n    Ubuntu or other Debian-based distributions in the shell:\n        sudo apt-get install ipython-notebook\n\n    Fedora 18 and newer related distributions in the shell:\n        sudo yum install python-ipython-notebook\n\n3. When the installations are done, you can either open IPython Notebook by going to http://127.0.0.1:8888/ in your browser.  You can also open it by using your terminal/command prompt and typing:\n        ipython notebook\n        \n4. IPython Notebook should open in your browser (Firefox or Chrome).  You should see the IPython dashboard.  Import all of the notebooks (.ipynb) by either dragging and dropping them into the browser or using the uploader.\n        \n"
    },
    {
     "cell_type": "heading",
     "level": 2,
     "metadata": {},
     "source": "What did I install?"
    },
    {
     "cell_type": "markdown",
     "metadata": {},
     "source": "Enthought Canopy: a package that installs Python (version 2.7) and Python packages for scientific and analytic computing \n\nIPython Notebook: IPython notebook is a browser-based notebook with support for code, text, mathematical expressions, inline plots and other rich media."
    },
    {
     "cell_type": "heading",
     "level": 1,
     "metadata": {},
     "source": "Quick Overview of IPython Notebook"
    },
    {
     "cell_type": "markdown",
     "metadata": {},
     "source": "Two main types of cells: code or markdown\n\nShortcuts:\n\n- Shift-Enter: \trun cell\n\n- Ctrl-m s: \tsave notebook\n\n- Ctrl-m y: \tcode cell\n\n- Ctrl-m m: \tmarkdown cell\n\n- Ctrl-m a: \tinsert cell above\n\n- Ctrl-m b: \tinsert cell below\n\n- Ctrl-m x: \tcut cell\n\n- Ctrl-m c: \tcopy cell\n\n- Ctrl-m v: \tpaste cell\n\n- Ctrl-m d: \tdelete cell"
    },
    {
     "cell_type": "heading",
     "level": 1,
     "metadata": {},
     "source": "Python!"
    },
    {
     "cell_type": "markdown",
     "metadata": {},
     "source": "Python is an intepreted language, meaning that the interpreter (IPython notebook in this case) takes the code you write, checks it for syntax errors, and executes the statements in that code, line by line. \n\nIn our case, the interpreter is a calculator, too."
    },
    {
     "cell_type": "code",
     "collapsed": false,
     "input": "1 + 1",
     "language": "python",
     "metadata": {},
     "outputs": []
    },
    {
     "cell_type": "code",
     "collapsed": false,
     "input": "2 ** 3",
     "language": "python",
     "metadata": {},
     "outputs": []
    },
    {
     "cell_type": "code",
     "collapsed": false,
     "input": "8/2",
     "language": "python",
     "metadata": {},
     "outputs": []
    },
    {
     "cell_type": "markdown",
     "metadata": {},
     "source": "You get the idea"
    },
    {
     "cell_type": "heading",
     "level": 1,
     "metadata": {},
     "source": "Hello World!"
    },
    {
     "cell_type": "code",
     "collapsed": false,
     "input": "print \"Hello, World\"",
     "language": "python",
     "metadata": {},
     "outputs": []
    },
    {
     "cell_type": "heading",
     "level": 1,
     "metadata": {},
     "source": "Variables"
    },
    {
     "cell_type": "markdown",
     "metadata": {},
     "source": "What do I do if I want to save information?  Variables!  The = assigns a value to a keyword."
    },
    {
     "cell_type": "code",
     "collapsed": false,
     "input": "integer_var = 1",
     "language": "python",
     "metadata": {},
     "outputs": []
    },
    {
     "cell_type": "code",
     "collapsed": false,
     "input": "float_var = 1.1",
     "language": "python",
     "metadata": {},
     "outputs": []
    },
    {
     "cell_type": "code",
     "collapsed": false,
     "input": "string_var = \"one\"\n#you can use single or double quotes around strings, but be consistent!",
     "language": "python",
     "metadata": {},
     "outputs": []
    },
    {
     "cell_type": "code",
     "collapsed": false,
     "input": "boolean_var = True",
     "language": "python",
     "metadata": {},
     "outputs": []
    },
    {
     "cell_type": "code",
     "collapsed": false,
     "input": "print integer_var\nprint float_var\nprint string_var\nprint boolean_var",
     "language": "python",
     "metadata": {},
     "outputs": []
    },
    {
     "cell_type": "markdown",
     "metadata": {},
     "source": "There are multiple types of data sources such as integers, floats (numbers with decimals), strings, and booleans."
    },
    {
     "cell_type": "markdown",
     "metadata": {},
     "source": "We can reassign variables"
    },
    {
     "cell_type": "code",
     "collapsed": false,
     "input": "print integer_var\ninteger_var = 2\nprint \"integer_var changed to: %i\" %integer_var",
     "language": "python",
     "metadata": {},
     "outputs": []
    },
    {
     "cell_type": "code",
     "collapsed": false,
     "input": "integer_var = integer_var + integer_var\nprint integer_var",
     "language": "python",
     "metadata": {},
     "outputs": []
    },
    {
     "cell_type": "code",
     "collapsed": false,
     "input": "int_plus_float = integer_var + float_var\nprint int_plus_float",
     "language": "python",
     "metadata": {},
     "outputs": []
    },
    {
     "cell_type": "code",
     "collapsed": false,
     "input": "int_plus_string = integer_var + string_var",
     "language": "python",
     "metadata": {},
     "outputs": []
    },
    {
     "cell_type": "markdown",
     "metadata": {},
     "source": "You can't add strings and ints/floats together!  Try converting it to a string"
    },
    {
     "cell_type": "code",
     "collapsed": false,
     "input": "int_plus_string = str(integer_var) + string_var\n#str() turns the variable into a string\nprint int_plus_string",
     "language": "python",
     "metadata": {},
     "outputs": []
    },
    {
     "cell_type": "code",
     "collapsed": false,
     "input": "new_str = string_var + string_var\nprint new_str",
     "language": "python",
     "metadata": {},
     "outputs": []
    },
    {
     "cell_type": "code",
     "collapsed": false,
     "input": "mult_str = string_var * 3\nprint mult_str",
     "language": "python",
     "metadata": {},
     "outputs": []
    },
    {
     "cell_type": "markdown",
     "metadata": {},
     "source": "Play around with variables a little bit!  See if you can assign an integer to a variable called 'height' and another one to a variable called 'width'.  Then calculate the area and assign it to a new variable."
    }
   ],
   "metadata": {}
  }
 ]
}