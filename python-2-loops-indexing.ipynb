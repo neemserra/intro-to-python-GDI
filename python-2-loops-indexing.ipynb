{
 "metadata": {
  "name": "python-2-loops-indexing"
 },
 "nbformat": 3,
 "nbformat_minor": 0,
 "worksheets": [
  {
   "cells": [
    {
     "cell_type": "heading",
     "level": 1,
     "metadata": {},
     "source": "Basic Programming Using Python: Repeating Things"
    },
    {
     "cell_type": "heading",
     "level": 2,
     "metadata": {},
     "source": "Objectives"
    },
    {
     "cell_type": "markdown",
     "metadata": {},
     "source": "- Explain what `for` loops are used for.\n- Correctly identify loop variables and explain when and how they are updated.\n- Trace the execution of simple and doubly-nested `for` loops.\n- Use the `ipythonblocks` library to create two-dimensional grids of colored cells.\n- Select elements and sections of those grids using simple and compound indices."
    },
    {
     "cell_type": "heading",
     "level": 2,
     "metadata": {},
     "source": "For Loops"
    },
    {
     "cell_type": "markdown",
     "metadata": {},
     "source": "Computers are useful because they can do lots of calculations on lots of data.\nTo take advantage of this,\nwe need a way to express many calculations with just a few statements.\nLet's start by printing the vowels in order the hard way:"
    },
    {
     "cell_type": "code",
     "collapsed": false,
     "input": "print 'a'\nprint 'e'\nprint 'i'\nprint 'o'\nprint 'u'",
     "language": "python",
     "metadata": {},
     "outputs": []
    },
    {
     "cell_type": "markdown",
     "metadata": {},
     "source": "Now let's do it the easy way:"
    },
    {
     "cell_type": "code",
     "collapsed": false,
     "input": "for vowel in 'aeiou':\n    print vowel",
     "language": "python",
     "metadata": {},
     "outputs": []
    },
    {
     "cell_type": "markdown",
     "metadata": {},
     "source": "The keywords `for` and `in` are used to create a for loop,\nwhich tells the computer to execute one or more statements for each thing in some group.\nThe indented line is called the body of the loop:\nit's what Python executes repeatedly.\nThe variable `vowel` is the loop variable:\neach time the loop is executed,\nit is assigned the next value from the string `'aeiou'`).\nThere's nothing magical about the loop variable's name:\nwe could call it `x` or `fish`,\nbut as with all variables,\nusing something meaningful makes our programs easier to understand."
    },
    {
     "cell_type": "markdown",
     "metadata": {},
     "source": "Here's another loop that repeatedly updates a variable:"
    },
    {
     "cell_type": "code",
     "collapsed": false,
     "input": "length = 0\nfor vowel in 'aeiou':\n    length = length + 1\nprint 'There are', length, 'vowels'",
     "language": "python",
     "metadata": {},
     "outputs": []
    },
    {
     "cell_type": "markdown",
     "metadata": {},
     "source": "It's worth tracing the execution of this little program step by step.\nSince there are five characters in `'aeiou'`,\nthe statement on line 3 will be executed five times.\nThe first time around,\n`length` is zero (the value assigned to it on line 1)\nand `vowel` is `'a'`.\nThe statement adds 1 to the old value of `length`,\nproducing 1,\nand updates `length` to refer to that new value.\nThe next time around,\n`vowel` is `'e'` and `length` is 1,\nso `length` is updated to be 2.\nAfter three more updates,\n`length` is 5;\nsince there is nothing left in `'aeiou'` for Python to process,\nthe loop finishes\nand the `print` statement on line 4 tells us our final answer."
    },
    {
     "cell_type": "markdown",
     "metadata": {},
     "source": "<hr/>\n\n### *In-Place Operators*\n\n<em>\nWe can write the body of the loop more concisely using an in-place operator:\n</em>"
    },
    {
     "cell_type": "code",
     "collapsed": false,
     "input": "length = 0\nfor vowel in 'aeiou':\n    length += 1\nprint 'There are', length, 'vowels'",
     "language": "python",
     "metadata": {},
     "outputs": []
    },
    {
     "cell_type": "markdown",
     "metadata": {},
     "source": "<em>\nThe symbol `+=` means\n\"add whatever is on the right to what's in the variable on the left\nand store the result in that same variable\".\nEvery binary operator can be written using in-place notation:\n</em>"
    },
    {
     "cell_type": "code",
     "collapsed": false,
     "input": "mass = 50.0\nmass *= 1.5 # increase mass by half\nmass -= 5.0 # and subtract 5 kg\nprint 'mass is now:', mass",
     "language": "python",
     "metadata": {},
     "outputs": []
    },
    {
     "cell_type": "markdown",
     "metadata": {},
     "source": "<em>\nIn-place operators reduce the amount of typing we have to do,\nbut more importantly,\nthey reduce the amount of **reading** as well,\nwhich cuts down on the number of mistakes we can make.\n</em>\n<hr/>"
    },
    {
     "cell_type": "markdown",
     "metadata": {},
     "source": "<hr/>\n### *Finding the Length*\n\n<em>\nCounting the number of characters in a string is such a common operation\nthat Python has a built-in function to do it called `len`:\n</em>"
    },
    {
     "cell_type": "code",
     "collapsed": false,
     "input": "print 'There are', len('aeiou'), 'vowels'",
     "language": "python",
     "metadata": {},
     "outputs": []
    },
    {
     "cell_type": "markdown",
     "metadata": {},
     "source": "<em>\n`len` is much faster than any function we could write ourselves,\nand much easier to read than a two-line loop;\nit will also give us the length of many other things that we haven't met yet,\nso we should always use it when we can.\n</em>\n<hr/>"
    },
    {
     "cell_type": "heading",
     "level": 2,
     "metadata": {},
     "source": "Grids, Colors, and Help"
    },
    {
     "cell_type": "markdown",
     "metadata": {},
     "source": "Now that we can write loops,\nwe need some more things to process with them.\nWe could use images,\nbut since it's hard to see individual pixels,\nwe will use a library called `ipythonblocks` instead.\nHere's a simple example of it in action:"
    },
    {
     "cell_type": "code",
     "collapsed": false,
     "input": "from ipythonblocks import ImageGrid\ngrid = ImageGrid(6, 3)\ngrid.show()",
     "language": "python",
     "metadata": {},
     "outputs": []
    },
    {
     "cell_type": "markdown",
     "metadata": {},
     "source": "The first line of this program loads `ImageGrid` from the `ipythonblocks` library.\nThe second line creates a 6&times;3 grid,\nand the third line asks that grid to display itself."
    },
    {
     "cell_type": "markdown",
     "metadata": {},
     "source": "Like real images,\nimage grids have properties:"
    },
    {
     "cell_type": "code",
     "collapsed": false,
     "input": "print 'width:', grid.width\nprint 'height:', grid.height\nprint 'lines_on:', grid.lines_on",
     "language": "python",
     "metadata": {},
     "outputs": []
    },
    {
     "cell_type": "markdown",
     "metadata": {},
     "source": "We can change some of the grid's members:"
    },
    {
     "cell_type": "code",
     "collapsed": false,
     "input": "grid.lines_on = False\ngrid.show()",
     "language": "python",
     "metadata": {},
     "outputs": []
    },
    {
     "cell_type": "markdown",
     "metadata": {},
     "source": "but not others:"
    },
    {
     "cell_type": "code",
     "collapsed": false,
     "input": "grid.width = 100",
     "language": "python",
     "metadata": {},
     "outputs": []
    },
    {
     "cell_type": "markdown",
     "metadata": {},
     "source": "In this case,\nthe library won't let us change the grid's size\nbecause it would have to guess what color to use if we added more rows and columns.\nBut `ImageGrid` can do many more things;\nto find out what,\nwe can ask for help:"
    },
    {
     "cell_type": "code",
     "collapsed": false,
     "input": "help(grid)",
     "language": "python",
     "metadata": {},
     "outputs": []
    },
    {
     "cell_type": "markdown",
     "metadata": {},
     "source": "We don't know enough yet to use all of these right now&mdash;particularly not\nthe ones with double underscores in their names&mdash;but we'll explore most of them in coming lessons.\nBefore we do that,\nthough,\nwe need to make our grids more exciting by coloring in some of the cells,\nand to do *that*, we need a way to specify colors."
    },
    {
     "cell_type": "markdown",
     "metadata": {},
     "source": "The most common color scheme is called RGB,\nwhich defines colors according to how much red, green, and blue they contain.\nThis is an additive color model:\nthe color we see is the sum of the individual color values,\neach of which can range between 0 and 255."
    },
    {
     "cell_type": "markdown",
     "metadata": {},
     "source": "<hr/>\n### *Bytes and Colors*\n\n<em>\nColor values go up to 255 because\ncomputer memory is organized into 8-bit bytes,\nand 255 (or 11111111 in base 2) is the largest integer that can be represented in one byte.\nStoring each color component in a single byte is a good balance between\nbeing able to represent enough colors to fool the human eye\nand being able to store color values efficiently.\n</em>\n\n<em>\nIn RGB,\nblack is (0, 0, 0), i.e., nothing of any color,\nand white is the maximum value of all three colors, or (255, 255, 255).\nWe can think of the other colors being arranged in cube:\nthe three axes represent the primary colors,\nwhile secondary colors are combinations of maximum values,\nand each actual color is a coordinate in this cube.\n</em>"
    },
    {
     "cell_type": "markdown",
     "metadata": {},
     "source": "The IPythonBlocks library includes a function called `show_color` that we can use to explore RGB colors:"
    },
    {
     "cell_type": "code",
     "collapsed": false,
     "input": "from ipythonblocks import show_color\nshow_color(255, 0, 0) # all red",
     "language": "python",
     "metadata": {},
     "outputs": []
    },
    {
     "cell_type": "code",
     "collapsed": false,
     "input": "show_color(0, 255, 0) # all green\nshow_color(0, 0, 255) # all blue",
     "language": "python",
     "metadata": {},
     "outputs": []
    },
    {
     "cell_type": "code",
     "collapsed": false,
     "input": "show_color(50, 100, 200) # a soothing shade of blue-gray",
     "language": "python",
     "metadata": {},
     "outputs": []
    },
    {
     "cell_type": "markdown",
     "metadata": {},
     "source": "We're finally ready to change the color of one cell of our grid:"
    },
    {
     "cell_type": "code",
     "collapsed": false,
     "input": "grid.lines_on = True\ngrid[0, 0] = (200, 45, 45)\ngrid.show()",
     "language": "python",
     "metadata": {},
     "outputs": []
    },
    {
     "cell_type": "markdown",
     "metadata": {},
     "source": "There's a lot going on in that assignment statement:\n\n1. A color is one value with three components,\n   so we write it as a tuple,\n   just as we wrote the (x,y) size of an image in the previous lessons.\n2. We use an index\n   (sometimes called a subscript\n   to refer to a particular cell in a grid,\n   just as we do when referring to a particular element of a matrix in mathematics such as *A<sub>i,j</sub>*.\n   We write the index in square brackets rather than as an actual subscript\n   because text editors didn't support fancy typesetting back in the 1950s.\n3. The corner's coordinates are (0, 0), not (1, 1).\n   Programming languages derived from C\n   (a family that includes Python, Perl, and Java)\n   all count from 0\n   for the same reason that color values run from 0 to 255 instead of 1 to 256.\n   Some other languages (notably Fortran, MATLAB, and R) count from 1.\n   The latter is more natural&mdash;nobody except a computer scientists says,\n   \"Zero, one, two, three, four,\" when counting their fingers&mdash;but\n   zero-based counting does have a few small advantages,\n   and even if it didn't,\n   we're stuck with it."
    },
    {
     "cell_type": "markdown",
     "metadata": {},
     "source": "<hr/>\n### *Block Grids*\n\n<em>\nThe `ipythonblocks` library has another class called `BlockGrid`\nthat has all the same capabilities as `ImageGrid`,\nbut which uses the same coordinate scheme as tables and spreadsheets:\nthe first index counts down the rows,\nwhile the second counts across the columns.\n</em>\n<hr/>"
    },
    {
     "cell_type": "heading",
     "level": 2,
     "metadata": {},
     "source": "Looping Over Grids"
    },
    {
     "cell_type": "markdown",
     "metadata": {},
     "source": "Suppose we want to turn all the pixels in the first column of a grid orange.\nOnce again,\nwe'll do it the wrong way first:"
    },
    {
     "cell_type": "code",
     "collapsed": false,
     "input": "rectangle = ImageGrid(6, 3)\nrectangle[0, 0] = (255, 128, 0)\nrectangle[0, 1] = (255, 28, 0)\nrectangle[0, 2] = (255, 128, 0)\nrectangle.show()",
     "language": "python",
     "metadata": {},
     "outputs": []
    },
    {
     "cell_type": "markdown",
     "metadata": {},
     "source": "Why is this wrong?\n\n1. We are changing the color of each cell manually.\n   If we had a 100&times;200 grid,\n   that would mean writing 200 lines of code.\n2. We are writing out our color three times.\n   If we want to change the shade of orange we're using,\n   we'll have to modify each of those lines.\n3. We must be careful to write exactly as many assignment statements\n   as there are rows in the grid.\n   If we ever change the grid size,\n   we'll have to add or remove assignment statements."
    },
    {
     "cell_type": "markdown",
     "metadata": {},
     "source": "Let's fix the second problem first:"
    },
    {
     "cell_type": "code",
     "collapsed": false,
     "input": "rectangle = ImageGrid(6, 3)\norange = (255, 128, 0)\nrectangle[0, 0] = orange\nrectangle[0, 1] = orange\nrectangle[0, 2] = orange\nrectangle.show()",
     "language": "python",
     "metadata": {},
     "outputs": []
    },
    {
     "cell_type": "markdown",
     "metadata": {},
     "source": "This version is one line longer,\nbut it's much more readable:\nputting the color value in a variable,\nthen referring to that variable everywhere we want the particular shade of orange,\nmakes it clear that we're using exactly the same color for each cell."
    },
    {
     "cell_type": "markdown",
     "metadata": {},
     "source": "Here's our first attempt at writing one assignment statement in a loop instead of multiple assignment statements:"
    },
    {
     "cell_type": "code",
     "collapsed": false,
     "input": "rectangle = ImageGrid(6, 3)\norange = (255, 128, 0)\nfor y in ...something...:\n    rectangle[0, y] = orange\nrectangle.show()",
     "language": "python",
     "metadata": {},
     "outputs": []
    },
    {
     "cell_type": "markdown",
     "metadata": {},
     "source": "Our plan is to use a loop to set a variable `y` to the values 0, 1, and 2,\nand then to assign `orange` to `grid[0, y]` for each of those values.\nBut what should we use in place of `...something...`?\nBy analogy with our loop over a character string,\nwe want a single collection that contains the numbers 0, 1, and 2.\nFortunately,\nPython has a built-in function called `range` that generates exactly that sequence:"
    },
    {
     "cell_type": "code",
     "collapsed": false,
     "input": "for number in range(3):\n    print number",
     "language": "python",
     "metadata": {},
     "outputs": []
    },
    {
     "cell_type": "markdown",
     "metadata": {},
     "source": "Note the relationship between the parameter to `range` and the sequence of numbers it creates:\nif we ask for `range(N)`,\nwe get 0, 1, 2, &hellip;, `N`-1,\nwhich is exactly the legal indices for something with N elements:"
    },
    {
     "cell_type": "code",
     "collapsed": false,
     "input": "vowels = 'aeiou'\nlength = len(vowels)\nfor i in range(length):\n    print i, vowels[i]",
     "language": "python",
     "metadata": {},
     "outputs": []
    },
    {
     "cell_type": "markdown",
     "metadata": {},
     "source": "Let's use `range` to make our loop work:"
    },
    {
     "cell_type": "code",
     "collapsed": false,
     "input": "rectangle = ImageGrid(6, 3)\norange = (255, 128, 0)\nfor y in range(3):\n    rectangle[0, y] = orange\nrectangle.show()",
     "language": "python",
     "metadata": {},
     "outputs": []
    },
    {
     "cell_type": "markdown",
     "metadata": {},
     "source": "This is real progress:\nas the example below shows,\nthe same number of statements will work for a larger grid:"
    },
    {
     "cell_type": "code",
     "collapsed": false,
     "input": "larger = ImageGrid(20, 8)\npurple = (200, 0, 200)\nfor y in range(8):\n    larger[0, y] = purple\nlarger.show()",
     "language": "python",
     "metadata": {},
     "outputs": []
    },
    {
     "cell_type": "markdown",
     "metadata": {},
     "source": "And we can now fix the third of our problems,\nnamely,\nthe fact that we have to change the parameter to `range`\neach time we change the size of the grid.\nSince the grid knows how big it is,\nwe can use its size as that parameter\nso that it will always be exactly the right value:"
    },
    {
     "cell_type": "code",
     "collapsed": false,
     "input": "final = ImageGrid(15, 6)\nteal = (0, 180, 180)\nfor y in range(final.height):\n    final[0, y] = teal\nfinal.show()",
     "language": "python",
     "metadata": {},
     "outputs": []
    },
    {
     "cell_type": "markdown",
     "metadata": {},
     "source": "<hr/>\n### *DRY*\n\n<em>\nThese improvements in our program are based on a design principle called DRY:\nDon't Repeat Yourself.\nEvery fact in a program should be written down exactly once,\nand every part of the program that needs that fact should refer to that definitive value.\nDoing this helps ensure that the program is always internally consistent\n(i.e., if it's wrong, it's wrong in the same way everywhere).\n</em>\n<hr/>"
    },
    {
     "cell_type": "markdown",
     "metadata": {},
     "source": "In fact,\nwe can now put what we've done in a function that will set the color of any column we want:"
    },
    {
     "cell_type": "code",
     "collapsed": false,
     "input": "def color_column(grid, x, color):\n    for y in range(grid.height):\n        grid[x, y] = color\n\nfirst = ImageGrid(10, 4)\ncolor_column(first, 2, (200, 100, 50))\nfirst.show()",
     "language": "python",
     "metadata": {},
     "outputs": []
    },
    {
     "cell_type": "markdown",
     "metadata": {},
     "source": "And then:"
    },
    {
     "cell_type": "code",
     "collapsed": false,
     "input": "second = ImageGrid(20, 3)\nbrown = (200, 100, 50)\ncolor_column(second, 5, brown)\nsecond.show()\ncolor_column(second, 10, brown)\ncolor_column(second, 15, brown)\nsecond.show()",
     "language": "python",
     "metadata": {},
     "outputs": []
    },
    {
     "cell_type": "markdown",
     "metadata": {},
     "source": "<hr/>\n### *When Short Names Are OK*\n\n<em>\nWe said earlier that programs should use meaningful variable names.\nWe are violating that rule by using `x` and `y` as variables in this function,\nbut it's a defensible violation.\nSuppose we re-write our loop as:\n</em>"
    },
    {
     "cell_type": "code",
     "collapsed": false,
     "input": "def color_column(grid, x_axis_index, color):\n    for y_axis_index in range(grid.height):\n        grid[x_axis_index, y_axis_index] = color",
     "language": "python",
     "metadata": {},
     "outputs": []
    },
    {
     "cell_type": "markdown",
     "metadata": {},
     "source": "<em>\nThe longer names are more meaningful,\nbut they also takes longer to read.\nSince these variables only used for a few lines,\nusers will easily be able to keep their meaning in short-term memory\nas long as they need to.\nOn balance,\ntherefore,\nthe short name are better in this case.\n\nIn general,\na variable that holds a simple value and is only used in a few adjacent lines of code\ncan (and usually should) have a short name.\nA variable that holds a complex value,\nor one which is used over more than a few lines of code,\nshould have a longer name in order to optimize the tradeoff\nbetween reading speed and the limitations of human short-term memory.\n</em>\n<hr/>"
    },
    {
     "cell_type": "heading",
     "level": 2,
     "metadata": {},
     "source": "Nested Loops"
    },
    {
     "cell_type": "markdown",
     "metadata": {},
     "source": "What if we want to color in a rectangle of cells rather than a single column?\nFor example,\nsuppose we want to turn the nine pixels in the lower left corner blue.\nWe could do this:\n\n```python\ngrid[0, 0] = (0, 0, 255)\ngrid[0, 1] = (0, 0, 255)\ngrid[0, 2] = (0, 0, 255)\ngrid[1, 0] = (0, 0, 255)\ngrid[1, 1] = (0, 0, 255)\ngrid[1, 2] = (0, 0, 255)\ngrid[2, 0] = (0, 0, 255)\ngrid[2, 1] = (0, 0, 255)\ngrid[2, 2] = (0, 0, 255)\n```\n\nbut we already know that's a bad approach.\nWe'd be better off using a loop for each row to cut our program from nine lines to six:"
    },
    {
     "cell_type": "code",
     "collapsed": false,
     "input": "grid = ImageGrid(8, 5)\nfor y in range(3):\n    grid[0, y] = (0, 0, 255)\nfor y in range(3):\n    grid[1, y] = (0, 0, 255)\nfor y in range(3):\n    grid[2, y] = (0, 0, 255)\ngrid.show()",
     "language": "python",
     "metadata": {},
     "outputs": []
    },
    {
     "cell_type": "markdown",
     "metadata": {},
     "source": "But look more closely:\nthe only difference between the three loops is the row index used in each,\nand those indices go in sequence 0, 1, and 2.\nThat means we can use another loop to produce them:"
    },
    {
     "cell_type": "code",
     "collapsed": false,
     "input": "for y in range(3):\n    for x in range(3):\n        grid[x, y] = (0, 0, 255)\ngrid.show()",
     "language": "python",
     "metadata": {},
     "outputs": []
    },
    {
     "cell_type": "markdown",
     "metadata": {},
     "source": "This is called a [nested loop](glossary.html#nested_loop).\nEach time the [outer loop](glossary.html#outer_loop) runs once,\nthe [inner loop](glossary.html#inner_loop) runs three times,\nso that every possible combination of row and column index is seen exactly once:"
    },
    {
     "cell_type": "markdown",
     "metadata": {},
     "source": "In this case we get the same result if we turn the loops inside out\nand run over each row once for each column,\ninstead of each column once for each row&mdash;the\nonly difference is the order in which blocks are colored in.\nThere are cases where the order of the loops matters.\nFor example,\nthe range of the inner loop in the program below\ndepends on the current value of the outer loop's index:"
    },
    {
     "cell_type": "code",
     "collapsed": false,
     "input": "square = ImageGrid(5, 5)\nfor x in range(square.width):\n    for y in range(x): # Note: y values depend on current value of x\n        square[x, y] = (0, 128, 255)\nsquare.show()",
     "language": "python",
     "metadata": {},
     "outputs": []
    },
    {
     "cell_type": "markdown",
     "metadata": {},
     "source": "If we invert the loops&mdash;i.e.,\nif we loop over all values of `y`\nbut make the range of `x` depend on the value of `y`&mdash;then\nwe get the following pattern instead:"
    },
    {
     "cell_type": "code",
     "collapsed": false,
     "input": "for y in range(square.height):\n    for x in range(y): # This time x depends on y.\n        square[x, y] = (255, 128, 0)\nsquare.show()",
     "language": "python",
     "metadata": {},
     "outputs": []
    },
    {
     "cell_type": "markdown",
     "metadata": {},
     "source": "And if we want,\nwe can use a single index for both our X and Y value\nto color in the diagonal:"
    },
    {
     "cell_type": "code",
     "collapsed": false,
     "input": "for i in range(square.height):\n    square[i, i] = (100, 200, 100)\nsquare.show()",
     "language": "python",
     "metadata": {},
     "outputs": []
    },
    {
     "cell_type": "heading",
     "level": 2,
     "metadata": {},
     "source": "Standard Colors"
    },
    {
     "cell_type": "markdown",
     "metadata": {},
     "source": "Let's make one more small change to our program:"
    },
    {
     "cell_type": "code",
     "collapsed": false,
     "input": "from ipythonblocks import colors\n\ngrid = ImageGrid(7, 4, fill=colors['Green'])\nfor y in range(grid.height):\n    for x in range(y):\n        grid[x, y] = colors['Aqua']\ngrid.show()",
     "language": "python",
     "metadata": {},
     "outputs": []
    },
    {
     "cell_type": "markdown",
     "metadata": {},
     "source": "`ipythonblocks.colors` is a collection of 140 named colors.\nThese are just the three-part tuples we've been using:"
    },
    {
     "cell_type": "code",
     "collapsed": false,
     "input": "print 'Orange:', colors['Orange']\nprint 'Yellow:', colors['Yellow']",
     "language": "python",
     "metadata": {},
     "outputs": []
    },
    {
     "cell_type": "markdown",
     "metadata": {},
     "source": "but using colors from the library saves us having to experiment with RGB values,\nand helps keep our programs consistent with other people's.\nWe can use these colors,\nor our own,\nboth to set the colors of individual cells,\nand to specify an initial color for all the cells in a grid\nusing the optional `fill` parameter."
    },
    {
     "cell_type": "heading",
     "level": 2,
     "metadata": {},
     "source": "Key Points"
    },
    {
     "cell_type": "markdown",
     "metadata": {},
     "source": "- `for variable in collection` repeats one or more statements once for each item in a collection\n  - The loop variable is assigned the values from the collection one at a time.\n- `grid[x, y]` refers to a single cell in a two-dimensional grid.\n- A tuple `(red, green, blue)` specifies a color.\n  - Each component must be in the range 0&hellip;255.\n- Every fact in a program should be expressed exactly once.\n  - Every other part of the program should refer to it rather than duplicating it.\n- The function call `range(N)` produces the values 0, 1, 2, &hellip;, N-1.\n- Use nested loops to process a two-dimensional range of values.\n  - The range of the inner loop can depend on the current value of the outer loop variable."
    },
    {
     "cell_type": "heading",
     "level": 1,
     "metadata": {},
     "source": "Try it yourself!"
    },
    {
     "cell_type": "markdown",
     "metadata": {},
     "source": "Try making a picture of a simplistic shape using ipythonblocks"
    },
    {
     "cell_type": "code",
     "collapsed": false,
     "input": "grid = ImageGrid(5, 5)\ngrid.show()",
     "language": "python",
     "metadata": {},
     "outputs": []
    },
    {
     "cell_type": "code",
     "collapsed": false,
     "input": "for x in range(2):\n    grid[0, x] = colors['Orange']\n    grid[4, x] = colors['Orange']\nfor x in range(3):\n    for y in range(3):\n        grid[1+ y, x] = colors['Green']\ngrid.show()",
     "language": "python",
     "metadata": {},
     "outputs": []
    },
    {
     "cell_type": "markdown",
     "metadata": {},
     "source": "Material from : http://software-carpentry.org"
    }
   ],
   "metadata": {}
  }
 ]
}